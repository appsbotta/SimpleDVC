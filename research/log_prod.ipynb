{
 "cells": [
  {
   "cell_type": "code",
   "execution_count": 4,
   "metadata": {},
   "outputs": [
    {
     "data": {
      "text/plain": [
       "'c:\\\\Users\\\\Appsb\\\\Desktop\\\\MLOPs\\\\simple_dvc\\\\research'"
      ]
     },
     "execution_count": 4,
     "metadata": {},
     "output_type": "execute_result"
    }
   ],
   "source": [
    "pwd\n"
   ]
  },
  {
   "cell_type": "code",
   "execution_count": null,
   "metadata": {},
   "outputs": [
    {
     "name": "stdout",
     "output_type": "stream",
     "text": [
      "{   'aliases': [],\n",
      "    'creation_timestamp': 1740391401070,\n",
      "    'current_stage': 'Staging',\n",
      "    'description': '',\n",
      "    'last_updated_timestamp': 1740411547724,\n",
      "    'name': 'ElasticNetWineModel',\n",
      "    'run_id': '29527d516ae945bfb7edea960c652c9e',\n",
      "    'run_link': '',\n",
      "    'source': 'file:///C:/Users/Appsb/Desktop/MLOPs/simple_dvc/artifacts/1/29527d516ae945bfb7edea960c652c9e/artifacts/model',\n",
      "    'status': 'READY',\n",
      "    'status_message': None,\n",
      "    'tags': {},\n",
      "    'user_id': '',\n",
      "    'version': '1'}\n",
      "{   'aliases': [],\n",
      "    'creation_timestamp': 1740391453804,\n",
      "    'current_stage': 'Staging',\n",
      "    'description': '',\n",
      "    'last_updated_timestamp': 1740411547675,\n",
      "    'name': 'ElasticNetWineModel',\n",
      "    'run_id': '5e96a2c18c5f41aba72b02948fccbb92',\n",
      "    'run_link': '',\n",
      "    'source': 'file:///C:/Users/Appsb/Desktop/MLOPs/simple_dvc/artifacts/1/5e96a2c18c5f41aba72b02948fccbb92/artifacts/model',\n",
      "    'status': 'READY',\n",
      "    'status_message': None,\n",
      "    'tags': {},\n",
      "    'user_id': '',\n",
      "    'version': '2'}\n",
      "{   'aliases': [],\n",
      "    'creation_timestamp': 1740394590610,\n",
      "    'current_stage': 'Staging',\n",
      "    'description': '',\n",
      "    'last_updated_timestamp': 1740411547652,\n",
      "    'name': 'ElasticNetWineModel',\n",
      "    'run_id': 'f84aa9a9836a47099903a70939113f6b',\n",
      "    'run_link': '',\n",
      "    'source': 'file:///C:/Users/Appsb/Desktop/MLOPs/simple_dvc/artifacts/1/f84aa9a9836a47099903a70939113f6b/artifacts/model',\n",
      "    'status': 'READY',\n",
      "    'status_message': None,\n",
      "    'tags': {},\n",
      "    'user_id': '',\n",
      "    'version': '3'}\n",
      "{   'aliases': [],\n",
      "    'creation_timestamp': 1740394701986,\n",
      "    'current_stage': 'Staging',\n",
      "    'description': '',\n",
      "    'last_updated_timestamp': 1740411547612,\n",
      "    'name': 'ElasticNetWineModel',\n",
      "    'run_id': 'b9a51922cf4041279575860d4f1ba8aa',\n",
      "    'run_link': '',\n",
      "    'source': 'file:///C:/Users/Appsb/Desktop/MLOPs/simple_dvc/artifacts/1/b9a51922cf4041279575860d4f1ba8aa/artifacts/model',\n",
      "    'status': 'READY',\n",
      "    'status_message': None,\n",
      "    'tags': {},\n",
      "    'user_id': '',\n",
      "    'version': '4'}\n",
      "{   'aliases': [],\n",
      "    'creation_timestamp': 1740394970036,\n",
      "    'current_stage': 'Production',\n",
      "    'description': '',\n",
      "    'last_updated_timestamp': 1740411547551,\n",
      "    'name': 'ElasticNetWineModel',\n",
      "    'run_id': '357babc4d48f4f489131e289af5c0130',\n",
      "    'run_link': '',\n",
      "    'source': 'file:///C:/Users/Appsb/Desktop/MLOPs/simple_dvc/artifacts/1/357babc4d48f4f489131e289af5c0130/artifacts/model',\n",
      "    'status': 'READY',\n",
      "    'status_message': None,\n",
      "    'tags': {},\n",
      "    'user_id': '',\n",
      "    'version': '5'}\n"
     ]
    }
   ],
   "source": [
    "from src.get_data import read_params\n",
    "import argparse\n",
    "import mlflow\n",
    "from mlflow.tracking import MlflowClient\n",
    "from pprint import pprint\n",
    "import joblib\n",
    "import os\n",
    "\n",
    "os.chdir('c:\\\\Users\\\\Appsb\\\\Desktop\\\\MLOPs\\\\simple_dvc')\n",
    "\n",
    "def log_production_model(config_path):\n",
    "    config = read_params(config_path)\n",
    "\n",
    "    mlflow_config = config[\"mlflow_config\"]\n",
    "    model_name = mlflow_config[\"registered_model_name\"]\n",
    "\n",
    "    remote_server_uri = mlflow_config[\"remote_server_uri\"]\n",
    "    mlflow.set_registry_uri(remote_server_uri)\n",
    "\n",
    "    runs = mlflow.search_runs(experiment_ids=[1])\n",
    "    lowest = runs[\"metrics.mae\"].sort_values(ascending=True)[0]\n",
    "    lowest_run_id = runs[runs[\"metrics.mae\"] == lowest][\"run_id\"][0]\n",
    "\n",
    "    client = MlflowClient()\n",
    "    for mv in client.search_model_versions(f\"name='{model_name}\"):\n",
    "        mv = dict(mv)\n",
    "        pprint(mv,indent=4)\n",
    "        # if mv[\"run_id\"] == lowest_run_id:\n",
    "        #     current_version = mv[\"version\"]\n",
    "        #     logged_model = mv[\"source\"]\n",
    "        #     pprint(mv,indent=4)\n",
    "        #     client.transition_model_version_stage(\n",
    "        #         name = model_name,\n",
    "        #         version=current_version,\n",
    "        #         stage=\"Production\"\n",
    "        #     )\n",
    "        # else:\n",
    "        #     current_version = mv[\"version\"]\n",
    "        #     client.transition_model_version_stage(\n",
    "        #         name = model_name,\n",
    "        #         version=current_version,\n",
    "        #         stage=\"Staging\"\n",
    "        #     )\n",
    "\n",
    "\n",
    "log_production_model(\"params.yaml\")\n"
   ]
  },
  {
   "cell_type": "code",
   "execution_count": null,
   "metadata": {},
   "outputs": [],
   "source": []
  }
 ],
 "metadata": {
  "kernelspec": {
   "display_name": "Python 3",
   "language": "python",
   "name": "python3"
  },
  "language_info": {
   "codemirror_mode": {
    "name": "ipython",
    "version": 3
   },
   "file_extension": ".py",
   "mimetype": "text/x-python",
   "name": "python",
   "nbconvert_exporter": "python",
   "pygments_lexer": "ipython3",
   "version": "3.11.11"
  }
 },
 "nbformat": 4,
 "nbformat_minor": 2
}
